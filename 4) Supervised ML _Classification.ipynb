{
 "cells": [
  {
   "cell_type": "code",
   "execution_count": 1,
   "metadata": {},
   "outputs": [],
   "source": [
    "## Problem statement\n",
    "\n",
    "## data collected from hospital\n",
    "## Now the doctor will check whether the delivery is through caseasarian or not\n",
    "## caseasarian is through operation and not normal delivery"
   ]
  },
  {
   "cell_type": "code",
   "execution_count": 2,
   "metadata": {},
   "outputs": [],
   "source": [
    "## Problem  is if new lady is getting admitted - we have to predict if delivery will be caesarian or not\n",
    "## This is a classification problem\n",
    "## 0 indicates no Caesarian and 1 is Caesarian\n",
    "## Age, delivery, Blood Pressure, Heart Problem are features\n",
    "## Caesarian is category / label --0 is class which represent no Caesarian case and 1 rperesent Caesarian case"
   ]
  },
  {
   "cell_type": "code",
   "execution_count": 3,
   "metadata": {},
   "outputs": [],
   "source": [
    "## For using this data we need to load the data\n",
    "## We will use below libraries"
   ]
  },
  {
   "cell_type": "code",
   "execution_count": 4,
   "metadata": {},
   "outputs": [],
   "source": [
    "## Importing Libraries\n",
    "import pandas as pd\n",
    "import numpy as np\n",
    "import matplotlib.pyplot as plt"
   ]
  },
  {
   "cell_type": "code",
   "execution_count": 7,
   "metadata": {},
   "outputs": [],
   "source": [
    "df  = pd.read_csv(\"caesarian.csv\")  ## loading data"
   ]
  },
  {
   "cell_type": "code",
   "execution_count": 8,
   "metadata": {},
   "outputs": [
    {
     "data": {
      "text/html": [
       "<div>\n",
       "<style scoped>\n",
       "    .dataframe tbody tr th:only-of-type {\n",
       "        vertical-align: middle;\n",
       "    }\n",
       "\n",
       "    .dataframe tbody tr th {\n",
       "        vertical-align: top;\n",
       "    }\n",
       "\n",
       "    .dataframe thead th {\n",
       "        text-align: right;\n",
       "    }\n",
       "</style>\n",
       "<table border=\"1\" class=\"dataframe\">\n",
       "  <thead>\n",
       "    <tr style=\"text-align: right;\">\n",
       "      <th></th>\n",
       "      <th>Age</th>\n",
       "      <th>DeliveryNumber</th>\n",
       "      <th>DeliveryTime</th>\n",
       "      <th>BloodPressure</th>\n",
       "      <th>HeartProblem</th>\n",
       "      <th>Caesarian</th>\n",
       "    </tr>\n",
       "  </thead>\n",
       "  <tbody>\n",
       "    <tr>\n",
       "      <th>0</th>\n",
       "      <td>22</td>\n",
       "      <td>1</td>\n",
       "      <td>0</td>\n",
       "      <td>2</td>\n",
       "      <td>0</td>\n",
       "      <td>0</td>\n",
       "    </tr>\n",
       "    <tr>\n",
       "      <th>1</th>\n",
       "      <td>26</td>\n",
       "      <td>2</td>\n",
       "      <td>0</td>\n",
       "      <td>1</td>\n",
       "      <td>0</td>\n",
       "      <td>1</td>\n",
       "    </tr>\n",
       "    <tr>\n",
       "      <th>2</th>\n",
       "      <td>26</td>\n",
       "      <td>2</td>\n",
       "      <td>1</td>\n",
       "      <td>1</td>\n",
       "      <td>0</td>\n",
       "      <td>0</td>\n",
       "    </tr>\n",
       "    <tr>\n",
       "      <th>3</th>\n",
       "      <td>28</td>\n",
       "      <td>1</td>\n",
       "      <td>0</td>\n",
       "      <td>2</td>\n",
       "      <td>0</td>\n",
       "      <td>0</td>\n",
       "    </tr>\n",
       "    <tr>\n",
       "      <th>4</th>\n",
       "      <td>22</td>\n",
       "      <td>2</td>\n",
       "      <td>0</td>\n",
       "      <td>1</td>\n",
       "      <td>0</td>\n",
       "      <td>1</td>\n",
       "    </tr>\n",
       "    <tr>\n",
       "      <th>...</th>\n",
       "      <td>...</td>\n",
       "      <td>...</td>\n",
       "      <td>...</td>\n",
       "      <td>...</td>\n",
       "      <td>...</td>\n",
       "      <td>...</td>\n",
       "    </tr>\n",
       "    <tr>\n",
       "      <th>75</th>\n",
       "      <td>27</td>\n",
       "      <td>2</td>\n",
       "      <td>1</td>\n",
       "      <td>1</td>\n",
       "      <td>0</td>\n",
       "      <td>0</td>\n",
       "    </tr>\n",
       "    <tr>\n",
       "      <th>76</th>\n",
       "      <td>33</td>\n",
       "      <td>4</td>\n",
       "      <td>0</td>\n",
       "      <td>1</td>\n",
       "      <td>0</td>\n",
       "      <td>1</td>\n",
       "    </tr>\n",
       "    <tr>\n",
       "      <th>77</th>\n",
       "      <td>29</td>\n",
       "      <td>2</td>\n",
       "      <td>1</td>\n",
       "      <td>2</td>\n",
       "      <td>0</td>\n",
       "      <td>1</td>\n",
       "    </tr>\n",
       "    <tr>\n",
       "      <th>78</th>\n",
       "      <td>25</td>\n",
       "      <td>1</td>\n",
       "      <td>2</td>\n",
       "      <td>0</td>\n",
       "      <td>0</td>\n",
       "      <td>1</td>\n",
       "    </tr>\n",
       "    <tr>\n",
       "      <th>79</th>\n",
       "      <td>24</td>\n",
       "      <td>2</td>\n",
       "      <td>2</td>\n",
       "      <td>1</td>\n",
       "      <td>0</td>\n",
       "      <td>0</td>\n",
       "    </tr>\n",
       "  </tbody>\n",
       "</table>\n",
       "<p>80 rows × 6 columns</p>\n",
       "</div>"
      ],
      "text/plain": [
       "    Age  DeliveryNumber  DeliveryTime  BloodPressure  HeartProblem  Caesarian\n",
       "0    22               1             0              2             0          0\n",
       "1    26               2             0              1             0          1\n",
       "2    26               2             1              1             0          0\n",
       "3    28               1             0              2             0          0\n",
       "4    22               2             0              1             0          1\n",
       "..  ...             ...           ...            ...           ...        ...\n",
       "75   27               2             1              1             0          0\n",
       "76   33               4             0              1             0          1\n",
       "77   29               2             1              2             0          1\n",
       "78   25               1             2              0             0          1\n",
       "79   24               2             2              1             0          0\n",
       "\n",
       "[80 rows x 6 columns]"
      ]
     },
     "execution_count": 8,
     "metadata": {},
     "output_type": "execute_result"
    }
   ],
   "source": [
    "df"
   ]
  },
  {
   "cell_type": "code",
   "execution_count": 9,
   "metadata": {},
   "outputs": [
    {
     "data": {
      "text/plain": [
       "pandas.core.frame.DataFrame"
      ]
     },
     "execution_count": 9,
     "metadata": {},
     "output_type": "execute_result"
    }
   ],
   "source": [
    "type(df)"
   ]
  },
  {
   "cell_type": "code",
   "execution_count": 10,
   "metadata": {},
   "outputs": [
    {
     "data": {
      "text/plain": [
       "(80, 6)"
      ]
     },
     "execution_count": 10,
     "metadata": {},
     "output_type": "execute_result"
    }
   ],
   "source": [
    "df.shape   ## Shape"
   ]
  },
  {
   "cell_type": "code",
   "execution_count": 11,
   "metadata": {},
   "outputs": [
    {
     "data": {
      "text/plain": [
       "2"
      ]
     },
     "execution_count": 11,
     "metadata": {},
     "output_type": "execute_result"
    }
   ],
   "source": [
    "df.ndim ## No of dimensions since dataframe"
   ]
  },
  {
   "cell_type": "code",
   "execution_count": 18,
   "metadata": {},
   "outputs": [
    {
     "data": {
      "text/html": [
       "<div>\n",
       "<style scoped>\n",
       "    .dataframe tbody tr th:only-of-type {\n",
       "        vertical-align: middle;\n",
       "    }\n",
       "\n",
       "    .dataframe tbody tr th {\n",
       "        vertical-align: top;\n",
       "    }\n",
       "\n",
       "    .dataframe thead th {\n",
       "        text-align: right;\n",
       "    }\n",
       "</style>\n",
       "<table border=\"1\" class=\"dataframe\">\n",
       "  <thead>\n",
       "    <tr style=\"text-align: right;\">\n",
       "      <th></th>\n",
       "      <th>Age</th>\n",
       "      <th>DeliveryNumber</th>\n",
       "      <th>DeliveryTime</th>\n",
       "      <th>BloodPressure</th>\n",
       "      <th>HeartProblem</th>\n",
       "      <th>Caesarian</th>\n",
       "    </tr>\n",
       "  </thead>\n",
       "  <tbody>\n",
       "    <tr>\n",
       "      <th>0</th>\n",
       "      <td>22</td>\n",
       "      <td>1</td>\n",
       "      <td>0</td>\n",
       "      <td>2</td>\n",
       "      <td>0</td>\n",
       "      <td>0</td>\n",
       "    </tr>\n",
       "    <tr>\n",
       "      <th>1</th>\n",
       "      <td>26</td>\n",
       "      <td>2</td>\n",
       "      <td>0</td>\n",
       "      <td>1</td>\n",
       "      <td>0</td>\n",
       "      <td>1</td>\n",
       "    </tr>\n",
       "    <tr>\n",
       "      <th>2</th>\n",
       "      <td>26</td>\n",
       "      <td>2</td>\n",
       "      <td>1</td>\n",
       "      <td>1</td>\n",
       "      <td>0</td>\n",
       "      <td>0</td>\n",
       "    </tr>\n",
       "    <tr>\n",
       "      <th>3</th>\n",
       "      <td>28</td>\n",
       "      <td>1</td>\n",
       "      <td>0</td>\n",
       "      <td>2</td>\n",
       "      <td>0</td>\n",
       "      <td>0</td>\n",
       "    </tr>\n",
       "    <tr>\n",
       "      <th>4</th>\n",
       "      <td>22</td>\n",
       "      <td>2</td>\n",
       "      <td>0</td>\n",
       "      <td>1</td>\n",
       "      <td>0</td>\n",
       "      <td>1</td>\n",
       "    </tr>\n",
       "    <tr>\n",
       "      <th>...</th>\n",
       "      <td>...</td>\n",
       "      <td>...</td>\n",
       "      <td>...</td>\n",
       "      <td>...</td>\n",
       "      <td>...</td>\n",
       "      <td>...</td>\n",
       "    </tr>\n",
       "    <tr>\n",
       "      <th>75</th>\n",
       "      <td>27</td>\n",
       "      <td>2</td>\n",
       "      <td>1</td>\n",
       "      <td>1</td>\n",
       "      <td>0</td>\n",
       "      <td>0</td>\n",
       "    </tr>\n",
       "    <tr>\n",
       "      <th>76</th>\n",
       "      <td>33</td>\n",
       "      <td>4</td>\n",
       "      <td>0</td>\n",
       "      <td>1</td>\n",
       "      <td>0</td>\n",
       "      <td>1</td>\n",
       "    </tr>\n",
       "    <tr>\n",
       "      <th>77</th>\n",
       "      <td>29</td>\n",
       "      <td>2</td>\n",
       "      <td>1</td>\n",
       "      <td>2</td>\n",
       "      <td>0</td>\n",
       "      <td>1</td>\n",
       "    </tr>\n",
       "    <tr>\n",
       "      <th>78</th>\n",
       "      <td>25</td>\n",
       "      <td>1</td>\n",
       "      <td>2</td>\n",
       "      <td>0</td>\n",
       "      <td>0</td>\n",
       "      <td>1</td>\n",
       "    </tr>\n",
       "    <tr>\n",
       "      <th>79</th>\n",
       "      <td>24</td>\n",
       "      <td>2</td>\n",
       "      <td>2</td>\n",
       "      <td>1</td>\n",
       "      <td>0</td>\n",
       "      <td>0</td>\n",
       "    </tr>\n",
       "  </tbody>\n",
       "</table>\n",
       "<p>80 rows × 6 columns</p>\n",
       "</div>"
      ],
      "text/plain": [
       "    Age  DeliveryNumber  DeliveryTime  BloodPressure  HeartProblem  Caesarian\n",
       "0    22               1             0              2             0          0\n",
       "1    26               2             0              1             0          1\n",
       "2    26               2             1              1             0          0\n",
       "3    28               1             0              2             0          0\n",
       "4    22               2             0              1             0          1\n",
       "..  ...             ...           ...            ...           ...        ...\n",
       "75   27               2             1              1             0          0\n",
       "76   33               4             0              1             0          1\n",
       "77   29               2             1              2             0          1\n",
       "78   25               1             2              0             0          1\n",
       "79   24               2             2              1             0          0\n",
       "\n",
       "[80 rows x 6 columns]"
      ]
     },
     "execution_count": 18,
     "metadata": {},
     "output_type": "execute_result"
    }
   ],
   "source": [
    "df  ## Index given by pandas internally"
   ]
  },
  {
   "cell_type": "code",
   "execution_count": 12,
   "metadata": {
    "scrolled": true
   },
   "outputs": [
    {
     "data": {
      "text/plain": [
       "Age               int64\n",
       "DeliveryNumber    int64\n",
       "DeliveryTime      int64\n",
       "BloodPressure     int64\n",
       "HeartProblem      int64\n",
       "Caesarian         int64\n",
       "dtype: object"
      ]
     },
     "execution_count": 12,
     "metadata": {},
     "output_type": "execute_result"
    }
   ],
   "source": [
    "df.dtypes"
   ]
  },
  {
   "cell_type": "code",
   "execution_count": 13,
   "metadata": {},
   "outputs": [],
   "source": [
    "## Now we want to separate features and labels\n",
    "#- We will use iloc method."
   ]
  },
  {
   "cell_type": "code",
   "execution_count": 16,
   "metadata": {},
   "outputs": [],
   "source": [
    "labels = df.iloc[:, -1].values  "
   ]
  },
  {
   "cell_type": "code",
   "execution_count": 17,
   "metadata": {},
   "outputs": [],
   "source": [
    "## -1 is for last column either row, item, column. we can also use 5\n",
    "## .values skip index part gerated by pandas. "
   ]
  },
  {
   "cell_type": "code",
   "execution_count": 18,
   "metadata": {},
   "outputs": [],
   "source": [
    "features = df.iloc[:, 0:5].values  ## features = df.iloc[:, 0:-1].values  can also be done"
   ]
  },
  {
   "cell_type": "code",
   "execution_count": 19,
   "metadata": {},
   "outputs": [
    {
     "data": {
      "text/plain": [
       "array([0, 1, 0, 0, 1, 0, 0, 1, 0, 1, 0, 1, 0, 0, 1, 0, 0, 1, 1, 1, 0, 1,\n",
       "       0, 1, 1, 0, 1, 0, 1, 0, 0, 1, 1, 1, 1, 1, 0, 0, 0, 1, 1, 1, 1, 1,\n",
       "       1, 1, 0, 1, 0, 1, 0, 1, 0, 0, 1, 0, 1, 1, 1, 1, 0, 1, 1, 1, 0, 1,\n",
       "       1, 0, 1, 0, 1, 1, 0, 0, 1, 0, 1, 1, 1, 0], dtype=int64)"
      ]
     },
     "execution_count": 19,
     "metadata": {},
     "output_type": "execute_result"
    }
   ],
   "source": [
    "labels  ## 0 means Non Caesarian and 1 means Caesarian"
   ]
  },
  {
   "cell_type": "code",
   "execution_count": 20,
   "metadata": {},
   "outputs": [
    {
     "data": {
      "text/plain": [
       "array([[22,  1,  0,  2,  0],\n",
       "       [26,  2,  0,  1,  0],\n",
       "       [26,  2,  1,  1,  0],\n",
       "       [28,  1,  0,  2,  0],\n",
       "       [22,  2,  0,  1,  0],\n",
       "       [26,  1,  1,  0,  0],\n",
       "       [27,  2,  0,  1,  0],\n",
       "       [32,  3,  0,  1,  0],\n",
       "       [28,  2,  0,  1,  0],\n",
       "       [27,  1,  1,  1,  0],\n",
       "       [36,  1,  0,  1,  0],\n",
       "       [33,  1,  1,  0,  0],\n",
       "       [23,  1,  1,  1,  0],\n",
       "       [20,  1,  0,  1,  1],\n",
       "       [29,  1,  2,  0,  1],\n",
       "       [25,  1,  2,  0,  0],\n",
       "       [25,  1,  0,  1,  0],\n",
       "       [20,  1,  2,  2,  0],\n",
       "       [37,  3,  0,  1,  1],\n",
       "       [24,  1,  2,  0,  1],\n",
       "       [26,  1,  1,  1,  0],\n",
       "       [33,  2,  0,  0,  1],\n",
       "       [25,  1,  1,  2,  0],\n",
       "       [27,  1,  0,  0,  1],\n",
       "       [20,  1,  0,  2,  1],\n",
       "       [18,  1,  0,  1,  0],\n",
       "       [18,  1,  1,  2,  1],\n",
       "       [30,  1,  0,  1,  0],\n",
       "       [32,  1,  0,  2,  1],\n",
       "       [26,  2,  1,  1,  1],\n",
       "       [25,  1,  0,  0,  0],\n",
       "       [40,  1,  0,  1,  1],\n",
       "       [32,  2,  0,  2,  1],\n",
       "       [27,  2,  0,  1,  1],\n",
       "       [26,  2,  2,  1,  0],\n",
       "       [28,  3,  0,  2,  0],\n",
       "       [33,  1,  1,  1,  0],\n",
       "       [31,  2,  2,  1,  0],\n",
       "       [31,  1,  0,  1,  0],\n",
       "       [26,  1,  2,  0,  1],\n",
       "       [27,  1,  0,  2,  1],\n",
       "       [19,  1,  0,  1,  0],\n",
       "       [36,  1,  1,  2,  0],\n",
       "       [22,  1,  0,  1,  0],\n",
       "       [36,  4,  0,  2,  1],\n",
       "       [28,  3,  0,  1,  1],\n",
       "       [26,  1,  0,  1,  0],\n",
       "       [32,  2,  0,  2,  1],\n",
       "       [26,  2,  2,  1,  0],\n",
       "       [29,  2,  0,  0,  1],\n",
       "       [33,  3,  2,  1,  1],\n",
       "       [21,  2,  1,  0,  1],\n",
       "       [30,  3,  2,  2,  0],\n",
       "       [35,  1,  1,  0,  0],\n",
       "       [29,  2,  0,  1,  1],\n",
       "       [25,  2,  0,  1,  0],\n",
       "       [32,  3,  1,  0,  1],\n",
       "       [21,  1,  0,  0,  0],\n",
       "       [26,  1,  0,  2,  0],\n",
       "       [30,  2,  1,  2,  1],\n",
       "       [22,  1,  2,  2,  0],\n",
       "       [19,  1,  0,  1,  0],\n",
       "       [32,  2,  0,  0,  0],\n",
       "       [32,  2,  0,  1,  1],\n",
       "       [31,  1,  2,  2,  1],\n",
       "       [35,  2,  0,  1,  0],\n",
       "       [28,  3,  0,  1,  0],\n",
       "       [29,  2,  0,  1,  1],\n",
       "       [25,  1,  0,  0,  0],\n",
       "       [27,  2,  2,  0,  0],\n",
       "       [17,  1,  0,  0,  0],\n",
       "       [29,  1,  2,  0,  1],\n",
       "       [28,  2,  0,  1,  0],\n",
       "       [32,  3,  0,  1,  1],\n",
       "       [38,  3,  2,  2,  1],\n",
       "       [27,  2,  1,  1,  0],\n",
       "       [33,  4,  0,  1,  0],\n",
       "       [29,  2,  1,  2,  0],\n",
       "       [25,  1,  2,  0,  0],\n",
       "       [24,  2,  2,  1,  0]], dtype=int64)"
      ]
     },
     "execution_count": 20,
     "metadata": {},
     "output_type": "execute_result"
    }
   ],
   "source": [
    "features"
   ]
  },
  {
   "cell_type": "code",
   "execution_count": 21,
   "metadata": {},
   "outputs": [],
   "source": [
    "## Now we will train test split for splitting data\n",
    "## We already have method in sklearn."
   ]
  },
  {
   "cell_type": "code",
   "execution_count": 22,
   "metadata": {},
   "outputs": [],
   "source": [
    "## train_test_split method will divide into labels, features\n",
    "## four parts features_train, features_test, labels_train,labels_test."
   ]
  },
  {
   "cell_type": "code",
   "execution_count": 23,
   "metadata": {},
   "outputs": [],
   "source": [
    "from sklearn.model_selection import train_test_split  "
   ]
  },
  {
   "cell_type": "code",
   "execution_count": 24,
   "metadata": {},
   "outputs": [],
   "source": [
    "features_train,features_test,labels_train, labels_test =  train_test_split(features, labels, test_size = 0.25) \n",
    "## test_size = 0.25 will keep 75% for training and 25% for testing"
   ]
  },
  {
   "cell_type": "code",
   "execution_count": 38,
   "metadata": {},
   "outputs": [],
   "source": [
    "## test_size = 0.25 can ce be kept 10 20 30....But ideal is near 20-25-15%\n",
    "## features_train,features_test,labels_train, labels_test are naming conventions for variable name\n",
    "## other variables name can also be used\n",
    "## test_size = 0.25 is key value pair"
   ]
  },
  {
   "cell_type": "code",
   "execution_count": 25,
   "metadata": {},
   "outputs": [
    {
     "data": {
      "text/plain": [
       "80"
      ]
     },
     "execution_count": 25,
     "metadata": {},
     "output_type": "execute_result"
    }
   ],
   "source": [
    "len(features)  "
   ]
  },
  {
   "cell_type": "code",
   "execution_count": 26,
   "metadata": {},
   "outputs": [
    {
     "data": {
      "text/plain": [
       "60"
      ]
     },
     "execution_count": 26,
     "metadata": {},
     "output_type": "execute_result"
    }
   ],
   "source": [
    "len(features_train)  "
   ]
  },
  {
   "cell_type": "code",
   "execution_count": 27,
   "metadata": {},
   "outputs": [
    {
     "data": {
      "text/plain": [
       "20"
      ]
     },
     "execution_count": 27,
     "metadata": {},
     "output_type": "execute_result"
    }
   ],
   "source": [
    "len(features_test)  "
   ]
  },
  {
   "cell_type": "code",
   "execution_count": 28,
   "metadata": {},
   "outputs": [
    {
     "data": {
      "text/plain": [
       "80"
      ]
     },
     "execution_count": 28,
     "metadata": {},
     "output_type": "execute_result"
    }
   ],
   "source": [
    "len(labels)"
   ]
  },
  {
   "cell_type": "code",
   "execution_count": 29,
   "metadata": {},
   "outputs": [
    {
     "data": {
      "text/plain": [
       "60"
      ]
     },
     "execution_count": 29,
     "metadata": {},
     "output_type": "execute_result"
    }
   ],
   "source": [
    "len(labels_train)  "
   ]
  },
  {
   "cell_type": "code",
   "execution_count": 30,
   "metadata": {},
   "outputs": [
    {
     "data": {
      "text/plain": [
       "20"
      ]
     },
     "execution_count": 30,
     "metadata": {},
     "output_type": "execute_result"
    }
   ],
   "source": [
    "len(labels_test)  "
   ]
  },
  {
   "cell_type": "code",
   "execution_count": 33,
   "metadata": {},
   "outputs": [
    {
     "data": {
      "text/plain": [
       "<zip at 0x22eab522200>"
      ]
     },
     "execution_count": 33,
     "metadata": {},
     "output_type": "execute_result"
    }
   ],
   "source": [
    "zip(features_train,labels_train)  ## x is in features_train and y is in labels_train"
   ]
  },
  {
   "cell_type": "code",
   "execution_count": 34,
   "metadata": {},
   "outputs": [
    {
     "data": {
      "text/plain": [
       "((array([27,  2,  1,  1,  0], dtype=int64), 0),\n",
       " (array([29,  2,  1,  2,  0], dtype=int64), 1),\n",
       " (array([33,  1,  1,  1,  0], dtype=int64), 0),\n",
       " (array([28,  3,  0,  1,  0], dtype=int64), 1),\n",
       " (array([32,  2,  0,  0,  0], dtype=int64), 1),\n",
       " (array([23,  1,  1,  1,  0], dtype=int64), 0),\n",
       " (array([25,  1,  1,  2,  0], dtype=int64), 0),\n",
       " (array([20,  1,  0,  2,  1], dtype=int64), 1),\n",
       " (array([27,  2,  0,  1,  1], dtype=int64), 1),\n",
       " (array([25,  1,  0,  0,  0], dtype=int64), 1),\n",
       " (array([36,  1,  1,  2,  0], dtype=int64), 1),\n",
       " (array([21,  1,  0,  0,  0], dtype=int64), 1),\n",
       " (array([31,  2,  2,  1,  0], dtype=int64), 0),\n",
       " (array([29,  1,  2,  0,  1], dtype=int64), 1),\n",
       " (array([29,  2,  0,  1,  1], dtype=int64), 1),\n",
       " (array([21,  2,  1,  0,  1], dtype=int64), 1),\n",
       " (array([33,  3,  2,  1,  1], dtype=int64), 0),\n",
       " (array([22,  1,  0,  2,  0], dtype=int64), 0),\n",
       " (array([25,  1,  0,  1,  0], dtype=int64), 0),\n",
       " (array([27,  1,  0,  0,  1], dtype=int64), 1),\n",
       " (array([26,  2,  1,  1,  1], dtype=int64), 0),\n",
       " (array([29,  2,  0,  1,  1], dtype=int64), 0),\n",
       " (array([20,  1,  2,  2,  0], dtype=int64), 1),\n",
       " (array([40,  1,  0,  1,  1], dtype=int64), 1),\n",
       " (array([26,  1,  0,  1,  0], dtype=int64), 0),\n",
       " (array([28,  1,  0,  2,  0], dtype=int64), 0),\n",
       " (array([32,  3,  0,  1,  1], dtype=int64), 0),\n",
       " (array([30,  2,  1,  2,  1], dtype=int64), 1),\n",
       " (array([32,  3,  1,  0,  1], dtype=int64), 1),\n",
       " (array([32,  3,  0,  1,  0], dtype=int64), 1),\n",
       " (array([28,  2,  0,  1,  0], dtype=int64), 0),\n",
       " (array([28,  3,  0,  2,  0], dtype=int64), 1),\n",
       " (array([26,  1,  1,  0,  0], dtype=int64), 0),\n",
       " (array([19,  1,  0,  1,  0], dtype=int64), 1),\n",
       " (array([32,  1,  0,  2,  1], dtype=int64), 1),\n",
       " (array([33,  4,  0,  1,  0], dtype=int64), 1),\n",
       " (array([32,  2,  0,  2,  1], dtype=int64), 1),\n",
       " (array([25,  1,  0,  0,  0], dtype=int64), 0),\n",
       " (array([26,  1,  2,  0,  1], dtype=int64), 1),\n",
       " (array([27,  2,  2,  0,  0], dtype=int64), 0),\n",
       " (array([20,  1,  0,  1,  1], dtype=int64), 0),\n",
       " (array([24,  1,  2,  0,  1], dtype=int64), 1),\n",
       " (array([26,  1,  1,  1,  0], dtype=int64), 0),\n",
       " (array([26,  2,  2,  1,  0], dtype=int64), 0),\n",
       " (array([26,  1,  0,  2,  0], dtype=int64), 1),\n",
       " (array([26,  2,  0,  1,  0], dtype=int64), 1),\n",
       " (array([36,  4,  0,  2,  1], dtype=int64), 1),\n",
       " (array([28,  2,  0,  1,  0], dtype=int64), 0),\n",
       " (array([27,  2,  0,  1,  0], dtype=int64), 0),\n",
       " (array([25,  2,  0,  1,  0], dtype=int64), 0),\n",
       " (array([25,  1,  2,  0,  0], dtype=int64), 0),\n",
       " (array([24,  2,  2,  1,  0], dtype=int64), 0),\n",
       " (array([36,  1,  0,  1,  0], dtype=int64), 0),\n",
       " (array([38,  3,  2,  2,  1], dtype=int64), 1),\n",
       " (array([30,  3,  2,  2,  0], dtype=int64), 0),\n",
       " (array([35,  2,  0,  1,  0], dtype=int64), 1),\n",
       " (array([32,  2,  0,  1,  1], dtype=int64), 1),\n",
       " (array([28,  3,  0,  1,  1], dtype=int64), 1),\n",
       " (array([19,  1,  0,  1,  0], dtype=int64), 1),\n",
       " (array([17,  1,  0,  0,  0], dtype=int64), 1))"
      ]
     },
     "execution_count": 34,
     "metadata": {},
     "output_type": "execute_result"
    }
   ],
   "source": [
    "tuple(zip(features_train,labels_train)) ## we have both features and labels together\n",
    "## This is training data and can be done for test data also"
   ]
  },
  {
   "cell_type": "code",
   "execution_count": null,
   "metadata": {},
   "outputs": [],
   "source": [
    "## third parameter is random state which is not used for practice"
   ]
  },
  {
   "cell_type": "code",
   "execution_count": null,
   "metadata": {},
   "outputs": [],
   "source": [
    "## Now our problem is Classification for which we will use KNN  "
   ]
  },
  {
   "cell_type": "code",
   "execution_count": 42,
   "metadata": {},
   "outputs": [],
   "source": [
    "from sklearn.neighbors import KNeighborsClassifier ## KNeighborsClassifier is class"
   ]
  },
  {
   "cell_type": "code",
   "execution_count": 43,
   "metadata": {},
   "outputs": [],
   "source": [
    "classifier = KNeighborsClassifier(n_neighbors=5,p=2)  ## We need to create object by calling constructor"
   ]
  },
  {
   "cell_type": "code",
   "execution_count": null,
   "metadata": {},
   "outputs": [],
   "source": [
    "# p=2 , Euclidean and 1  = Manhattan\n",
    "\n",
    "#What Does Constructor Mean? \n",
    "# A constructor is a special method of a class or structure in object-oriented programming \n",
    "# that initializes a newly created object of that type. \n",
    "# Whenever an object is created, the constructor is called automatically.\n",
    "# https://www.techopedia.com/definition/5656/constructor"
   ]
  },
  {
   "cell_type": "code",
   "execution_count": 44,
   "metadata": {},
   "outputs": [
    {
     "data": {
      "text/plain": [
       "KNeighborsClassifier()"
      ]
     },
     "execution_count": 44,
     "metadata": {},
     "output_type": "execute_result"
    }
   ],
   "source": [
    "classifier"
   ]
  },
  {
   "cell_type": "code",
   "execution_count": 47,
   "metadata": {
    "scrolled": true
   },
   "outputs": [
    {
     "data": {
      "text/plain": [
       "KNeighborsClassifier()"
      ]
     },
     "execution_count": 47,
     "metadata": {},
     "output_type": "execute_result"
    }
   ],
   "source": [
    "classifier.fit(features_train, labels_train)  ## Training of model"
   ]
  },
  {
   "cell_type": "code",
   "execution_count": 53,
   "metadata": {},
   "outputs": [],
   "source": [
    "labels_pred = classifier.predict(features_test) ## Prediction of model"
   ]
  },
  {
   "cell_type": "code",
   "execution_count": 49,
   "metadata": {},
   "outputs": [
    {
     "data": {
      "text/plain": [
       "array([[33,  2,  0,  0,  1],\n",
       "       [26,  2,  2,  1,  0],\n",
       "       [29,  2,  0,  0,  1],\n",
       "       [35,  1,  1,  0,  0],\n",
       "       [31,  1,  2,  2,  1],\n",
       "       [27,  1,  0,  2,  1],\n",
       "       [18,  1,  1,  2,  1],\n",
       "       [18,  1,  0,  1,  0],\n",
       "       [27,  1,  1,  1,  0],\n",
       "       [32,  2,  0,  2,  1],\n",
       "       [37,  3,  0,  1,  1],\n",
       "       [22,  1,  2,  2,  0],\n",
       "       [22,  2,  0,  1,  0],\n",
       "       [25,  1,  2,  0,  0],\n",
       "       [31,  1,  0,  1,  0],\n",
       "       [30,  1,  0,  1,  0],\n",
       "       [22,  1,  0,  1,  0],\n",
       "       [29,  1,  2,  0,  1],\n",
       "       [26,  2,  1,  1,  0],\n",
       "       [33,  1,  1,  0,  0]], dtype=int64)"
      ]
     },
     "execution_count": 49,
     "metadata": {},
     "output_type": "execute_result"
    }
   ],
   "source": [
    "features_test  ## For this test data model has predicted, 20 rows 20 prediction"
   ]
  },
  {
   "cell_type": "code",
   "execution_count": 54,
   "metadata": {},
   "outputs": [
    {
     "data": {
      "text/plain": [
       "array([1, 0, 0, 1, 1, 0, 1, 1, 0, 1, 1, 0, 0, 0, 1, 1, 0, 0, 0, 1],\n",
       "      dtype=int64)"
      ]
     },
     "execution_count": 54,
     "metadata": {},
     "output_type": "execute_result"
    }
   ],
   "source": [
    "labels_pred ## Predicted label"
   ]
  },
  {
   "cell_type": "code",
   "execution_count": 50,
   "metadata": {},
   "outputs": [
    {
     "data": {
      "text/plain": [
       "array([1, 1, 1, 0, 0, 1, 1, 0, 1, 1, 1, 0, 1, 1, 0, 0, 1, 1, 0, 1],\n",
       "      dtype=int64)"
      ]
     },
     "execution_count": 50,
     "metadata": {},
     "output_type": "execute_result"
    }
   ],
   "source": [
    "labels_test  # Original test label we compare with Predicted label"
   ]
  },
  {
   "cell_type": "code",
   "execution_count": 1,
   "metadata": {},
   "outputs": [],
   "source": [
    "## For [33,  2,  0,  0,  1], model predicted 1 and orignal is 0"
   ]
  },
  {
   "cell_type": "code",
   "execution_count": 2,
   "metadata": {},
   "outputs": [],
   "source": [
    "## Now we will import confusion_matrix to check accuracy"
   ]
  },
  {
   "cell_type": "code",
   "execution_count": 57,
   "metadata": {},
   "outputs": [],
   "source": [
    "from sklearn.metrics import confusion_matrix"
   ]
  },
  {
   "cell_type": "code",
   "execution_count": 58,
   "metadata": {},
   "outputs": [
    {
     "data": {
      "text/plain": [
       "array([[2, 5],\n",
       "       [8, 5]], dtype=int64)"
      ]
     },
     "execution_count": 58,
     "metadata": {},
     "output_type": "execute_result"
    }
   ],
   "source": [
    "confusion_matrix(labels_test, labels_pred)"
   ]
  },
  {
   "cell_type": "code",
   "execution_count": null,
   "metadata": {},
   "outputs": [],
   "source": [
    "## confusion matrix always in classification only\n",
    "## we get different vaslues for confusion_matrix because train_test_split randomly split data"
   ]
  },
  {
   "cell_type": "markdown",
   "metadata": {},
   "source": [
    "## Now change n_neighbors = 7 and p=1 Manhattan distance"
   ]
  },
  {
   "cell_type": "code",
   "execution_count": null,
   "metadata": {},
   "outputs": [],
   "source": [
    "## from sklearn.neighbors import KNeighborsClassifier ## KNeighborsClassifier is class \n",
    "## Not done above since already imported."
   ]
  },
  {
   "cell_type": "code",
   "execution_count": 60,
   "metadata": {},
   "outputs": [],
   "source": [
    "classifier = KNeighborsClassifier(n_neighbors=7,p=1)  ## We need to create object by calling constructor"
   ]
  },
  {
   "cell_type": "code",
   "execution_count": 61,
   "metadata": {
    "scrolled": true
   },
   "outputs": [
    {
     "data": {
      "text/plain": [
       "KNeighborsClassifier(n_neighbors=7, p=1)"
      ]
     },
     "execution_count": 61,
     "metadata": {},
     "output_type": "execute_result"
    }
   ],
   "source": [
    "classifier.fit(features_train, labels_train)  ## Training of model"
   ]
  },
  {
   "cell_type": "code",
   "execution_count": 62,
   "metadata": {},
   "outputs": [],
   "source": [
    "labels_pred = classifier.predict(features_test) ## Prediction of model"
   ]
  },
  {
   "cell_type": "code",
   "execution_count": 63,
   "metadata": {},
   "outputs": [
    {
     "data": {
      "text/plain": [
       "array([1, 1, 1, 0, 0, 1, 1, 0, 1, 1, 1, 0, 1, 1, 0, 0, 1, 1, 0, 1],\n",
       "      dtype=int64)"
      ]
     },
     "execution_count": 63,
     "metadata": {},
     "output_type": "execute_result"
    }
   ],
   "source": [
    "labels_test  # Original test label we compare with Predicted label"
   ]
  },
  {
   "cell_type": "code",
   "execution_count": 64,
   "metadata": {},
   "outputs": [],
   "source": [
    "from sklearn.metrics import confusion_matrix"
   ]
  },
  {
   "cell_type": "code",
   "execution_count": 65,
   "metadata": {},
   "outputs": [
    {
     "data": {
      "text/plain": [
       "array([[3, 4],\n",
       "       [6, 7]], dtype=int64)"
      ]
     },
     "execution_count": 65,
     "metadata": {},
     "output_type": "execute_result"
    }
   ],
   "source": [
    "confusion_matrix(labels_test, labels_pred)"
   ]
  },
  {
   "cell_type": "code",
   "execution_count": 72,
   "metadata": {},
   "outputs": [
    {
     "data": {
      "text/plain": [
       "0.5"
      ]
     },
     "execution_count": 72,
     "metadata": {},
     "output_type": "execute_result"
    }
   ],
   "source": [
    "from sklearn.metrics import accuracy_score\n",
    "accuracy_score(labels_test, labels_pred)"
   ]
  },
  {
   "cell_type": "code",
   "execution_count": 73,
   "metadata": {},
   "outputs": [],
   "source": [
    "## Accuracy is 50%"
   ]
  },
  {
   "cell_type": "code",
   "execution_count": 74,
   "metadata": {},
   "outputs": [],
   "source": [
    "## Accuracy = (7+3) / (3 + 4 + 6 + 7)"
   ]
  },
  {
   "cell_type": "markdown",
   "metadata": {},
   "source": [
    "## We can check for single prediction"
   ]
  },
  {
   "cell_type": "code",
   "execution_count": 67,
   "metadata": {},
   "outputs": [],
   "source": [
    "x = [33,  2,  0,  0,  1] ## x is list"
   ]
  },
  {
   "cell_type": "code",
   "execution_count": 68,
   "metadata": {},
   "outputs": [],
   "source": [
    "x = np.array(x)"
   ]
  },
  {
   "cell_type": "code",
   "execution_count": 69,
   "metadata": {},
   "outputs": [
    {
     "data": {
      "text/plain": [
       "(5,)"
      ]
     },
     "execution_count": 69,
     "metadata": {},
     "output_type": "execute_result"
    }
   ],
   "source": [
    "x.shape  ## It has 5 rows. It is 1 dimensional. but we need 2 dimensional data since training is 2 dimensional data"
   ]
  },
  {
   "cell_type": "code",
   "execution_count": 70,
   "metadata": {},
   "outputs": [],
   "source": [
    "x = x.reshape(1,5)"
   ]
  },
  {
   "cell_type": "code",
   "execution_count": 71,
   "metadata": {},
   "outputs": [
    {
     "data": {
      "text/plain": [
       "array([1], dtype=int64)"
      ]
     },
     "execution_count": 71,
     "metadata": {},
     "output_type": "execute_result"
    }
   ],
   "source": [
    "classifier.predict(x)  ## We get 1 - Caesarian , this is single prediction"
   ]
  },
  {
   "cell_type": "code",
   "execution_count": null,
   "metadata": {},
   "outputs": [],
   "source": []
  },
  {
   "cell_type": "code",
   "execution_count": null,
   "metadata": {},
   "outputs": [],
   "source": []
  },
  {
   "cell_type": "code",
   "execution_count": null,
   "metadata": {},
   "outputs": [],
   "source": []
  },
  {
   "cell_type": "code",
   "execution_count": null,
   "metadata": {},
   "outputs": [],
   "source": []
  },
  {
   "cell_type": "code",
   "execution_count": null,
   "metadata": {},
   "outputs": [],
   "source": []
  },
  {
   "cell_type": "code",
   "execution_count": null,
   "metadata": {},
   "outputs": [],
   "source": []
  },
  {
   "cell_type": "code",
   "execution_count": null,
   "metadata": {},
   "outputs": [],
   "source": []
  },
  {
   "cell_type": "code",
   "execution_count": null,
   "metadata": {},
   "outputs": [],
   "source": []
  },
  {
   "cell_type": "code",
   "execution_count": null,
   "metadata": {},
   "outputs": [],
   "source": []
  }
 ],
 "metadata": {
  "kernelspec": {
   "display_name": "Python 3",
   "language": "python",
   "name": "python3"
  },
  "language_info": {
   "codemirror_mode": {
    "name": "ipython",
    "version": 3
   },
   "file_extension": ".py",
   "mimetype": "text/x-python",
   "name": "python",
   "nbconvert_exporter": "python",
   "pygments_lexer": "ipython3",
   "version": "3.8.3"
  }
 },
 "nbformat": 4,
 "nbformat_minor": 4
}
